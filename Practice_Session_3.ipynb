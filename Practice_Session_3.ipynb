{
  "nbformat": 4,
  "nbformat_minor": 0,
  "metadata": {
    "colab": {
      "name": "Practice Session 3.ipynb",
      "provenance": []
    },
    "kernelspec": {
      "name": "python3",
      "display_name": "Python 3"
    },
    "language_info": {
      "name": "python"
    }
  },
  "cells": [
    {
      "cell_type": "markdown",
      "metadata": {
        "id": "k3kscIx9YLjB"
      },
      "source": [
        "Palindrome Number"
      ]
    },
    {
      "cell_type": "code",
      "metadata": {
        "colab": {
          "base_uri": "https://localhost:8080/"
        },
        "id": "2jUXTtOkZFeK",
        "outputId": "43f347df-6823-4a5c-bc14-dba751f8f1bf"
      },
      "source": [
        "n = int(input(\"Enter a number : \"))\n",
        "k = n\n",
        "rev = 0\n",
        "while (n!=0):\n",
        "  d = int(n%10)\n",
        "  n = int(n/10)\n",
        "  rev = int((rev*10)+d)\n",
        "  if(rev == k):\n",
        "    print (k,\" is a Palindrome number.\")\n",
        "  else:\n",
        "    print (k,\" is not a Palindrome number.\")"
      ],
      "execution_count": 5,
      "outputs": [
        {
          "output_type": "stream",
          "name": "stdout",
          "text": [
            "Enter a number : 121\n",
            "121  is not a Palindrome number.\n",
            "121  is not a Palindrome number.\n",
            "121  is a Palindrome number.\n"
          ]
        }
      ]
    },
    {
      "cell_type": "markdown",
      "metadata": {
        "id": "uwSWO_h6cFbr"
      },
      "source": [
        "Multiplication Table"
      ]
    },
    {
      "cell_type": "code",
      "metadata": {
        "colab": {
          "base_uri": "https://localhost:8080/"
        },
        "id": "Z1Igf5DQcJ1a",
        "outputId": "f9340a47-a346-427d-a159-3f8853669eb6"
      },
      "source": [
        "n = int(input(\"Enter a number\"))\n",
        "print(\"Multiplication of table \",n,\" as follows :\")\n",
        "count=1\n",
        "while(count<=10):\n",
        "   print (n,\"x\",count,\"=\",n*count)\n",
        "   count=count+1"
      ],
      "execution_count": 17,
      "outputs": [
        {
          "output_type": "stream",
          "name": "stdout",
          "text": [
            "Enter a number33\n",
            "Multiplication of table  33  as follows :\n",
            "33 x 1 = 33\n",
            "33 x 2 = 66\n",
            "33 x 3 = 99\n",
            "33 x 4 = 132\n",
            "33 x 5 = 165\n",
            "33 x 6 = 198\n",
            "33 x 7 = 231\n",
            "33 x 8 = 264\n",
            "33 x 9 = 297\n",
            "33 x 10 = 330\n"
          ]
        }
      ]
    },
    {
      "cell_type": "markdown",
      "metadata": {
        "id": "aFH5Ho3PdOXU"
      },
      "source": [
        "Get 2 lists from user.Create 3rd list with odd nos. from the first list and even nos. from the second list"
      ]
    },
    {
      "cell_type": "code",
      "metadata": {
        "colab": {
          "base_uri": "https://localhost:8080/"
        },
        "id": "0SDH19GheKjF",
        "outputId": "25508abf-f03e-4422-d097-e0faf5780f53"
      },
      "source": [
        "a = int(input(\"First list range : \"))\n",
        "b = int(input(\"Second list range : \"))\n",
        "list1 = []\n",
        "list2 = []\n",
        "list3 = []\n",
        "print(\"Values of List 1 : \")\n",
        "for i in range(0,a):\n",
        "  n = int(input())\n",
        "  list1.append(n)\n",
        "print(\"Values of List 2 : \")\n",
        "for i in range(0,b):\n",
        "  n = int(input())\n",
        "  list2.append(n)\n",
        "for i in range(0,a):\n",
        "  if(list1[i]%2 != 0):\n",
        "    list3.append(list1[i])\n",
        "for i in range(0,b):\n",
        "  if(list2[i]%2 == 0):\n",
        "    list3.append(list2[i])\n",
        "print(\"Values of List 3 : \")\n",
        "print(list3)"
      ],
      "execution_count": 16,
      "outputs": [
        {
          "output_type": "stream",
          "name": "stdout",
          "text": [
            "First list range : 3\n",
            "Second list range : 3\n",
            "Values of List 1 : \n",
            "1\n",
            "5\n",
            "8\n",
            "Values of List 2 : \n",
            "2\n",
            "9\n",
            "10\n",
            "Values of List 3 : \n",
            "[1, 5, 10]\n"
          ]
        }
      ]
    }
  ]
}